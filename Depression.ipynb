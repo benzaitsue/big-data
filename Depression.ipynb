{
  "nbformat": 4,
  "nbformat_minor": 0,
  "metadata": {
    "colab": {
      "provenance": [],
      "authorship_tag": "ABX9TyPWw6+miOV9yzWbhiQMJA9I",
      "include_colab_link": true
    },
    "kernelspec": {
      "name": "python3",
      "display_name": "Python 3"
    },
    "language_info": {
      "name": "python"
    }
  },
  "cells": [
    {
      "cell_type": "markdown",
      "metadata": {
        "id": "view-in-github",
        "colab_type": "text"
      },
      "source": [
        "<a href=\"https://colab.research.google.com/github/benzaitsue/big-data/blob/main/Depression.ipynb\" target=\"_parent\"><img src=\"https://colab.research.google.com/assets/colab-badge.svg\" alt=\"Open In Colab\"/></a>"
      ]
    },
    {
      "cell_type": "code",
      "execution_count": 2,
      "metadata": {
        "colab": {
          "base_uri": "https://localhost:8080/"
        },
        "id": "V7FPYXCu5PCE",
        "outputId": "5bf83391-7991-458a-a36e-76b70137dc6c"
      },
      "outputs": [
        {
          "output_type": "stream",
          "name": "stdout",
          "text": [
            "Requirement already satisfied: pyspark in /usr/local/lib/python3.10/dist-packages (3.5.3)\n",
            "Requirement already satisfied: py4j==0.10.9.7 in /usr/local/lib/python3.10/dist-packages (from pyspark) (0.10.9.7)\n"
          ]
        }
      ],
      "source": [
        "!pip install pyspark\n"
      ]
    },
    {
      "cell_type": "code",
      "source": [
        "from pyspark.sql import SparkSession\n",
        "\n",
        "spark = SparkSession.builder.appName(\"depressionPrediction\").getOrCreate()"
      ],
      "metadata": {
        "id": "vdySE3GL5YLk"
      },
      "execution_count": 3,
      "outputs": []
    },
    {
      "cell_type": "code",
      "source": [
        "from google.colab import files\n",
        "import pandas as pd\n",
        "uploaded = files.upload()"
      ],
      "metadata": {
        "colab": {
          "base_uri": "https://localhost:8080/",
          "height": 73
        },
        "id": "4aOBRszP5j1j",
        "outputId": "47cf61f7-3b32-41fc-eda8-590095dfbfb4"
      },
      "execution_count": 4,
      "outputs": [
        {
          "output_type": "display_data",
          "data": {
            "text/plain": [
              "<IPython.core.display.HTML object>"
            ],
            "text/html": [
              "\n",
              "     <input type=\"file\" id=\"files-7a237004-e6d1-45eb-a2b7-ef72209da3db\" name=\"files[]\" multiple disabled\n",
              "        style=\"border:none\" />\n",
              "     <output id=\"result-7a237004-e6d1-45eb-a2b7-ef72209da3db\">\n",
              "      Upload widget is only available when the cell has been executed in the\n",
              "      current browser session. Please rerun this cell to enable.\n",
              "      </output>\n",
              "      <script>// Copyright 2017 Google LLC\n",
              "//\n",
              "// Licensed under the Apache License, Version 2.0 (the \"License\");\n",
              "// you may not use this file except in compliance with the License.\n",
              "// You may obtain a copy of the License at\n",
              "//\n",
              "//      http://www.apache.org/licenses/LICENSE-2.0\n",
              "//\n",
              "// Unless required by applicable law or agreed to in writing, software\n",
              "// distributed under the License is distributed on an \"AS IS\" BASIS,\n",
              "// WITHOUT WARRANTIES OR CONDITIONS OF ANY KIND, either express or implied.\n",
              "// See the License for the specific language governing permissions and\n",
              "// limitations under the License.\n",
              "\n",
              "/**\n",
              " * @fileoverview Helpers for google.colab Python module.\n",
              " */\n",
              "(function(scope) {\n",
              "function span(text, styleAttributes = {}) {\n",
              "  const element = document.createElement('span');\n",
              "  element.textContent = text;\n",
              "  for (const key of Object.keys(styleAttributes)) {\n",
              "    element.style[key] = styleAttributes[key];\n",
              "  }\n",
              "  return element;\n",
              "}\n",
              "\n",
              "// Max number of bytes which will be uploaded at a time.\n",
              "const MAX_PAYLOAD_SIZE = 100 * 1024;\n",
              "\n",
              "function _uploadFiles(inputId, outputId) {\n",
              "  const steps = uploadFilesStep(inputId, outputId);\n",
              "  const outputElement = document.getElementById(outputId);\n",
              "  // Cache steps on the outputElement to make it available for the next call\n",
              "  // to uploadFilesContinue from Python.\n",
              "  outputElement.steps = steps;\n",
              "\n",
              "  return _uploadFilesContinue(outputId);\n",
              "}\n",
              "\n",
              "// This is roughly an async generator (not supported in the browser yet),\n",
              "// where there are multiple asynchronous steps and the Python side is going\n",
              "// to poll for completion of each step.\n",
              "// This uses a Promise to block the python side on completion of each step,\n",
              "// then passes the result of the previous step as the input to the next step.\n",
              "function _uploadFilesContinue(outputId) {\n",
              "  const outputElement = document.getElementById(outputId);\n",
              "  const steps = outputElement.steps;\n",
              "\n",
              "  const next = steps.next(outputElement.lastPromiseValue);\n",
              "  return Promise.resolve(next.value.promise).then((value) => {\n",
              "    // Cache the last promise value to make it available to the next\n",
              "    // step of the generator.\n",
              "    outputElement.lastPromiseValue = value;\n",
              "    return next.value.response;\n",
              "  });\n",
              "}\n",
              "\n",
              "/**\n",
              " * Generator function which is called between each async step of the upload\n",
              " * process.\n",
              " * @param {string} inputId Element ID of the input file picker element.\n",
              " * @param {string} outputId Element ID of the output display.\n",
              " * @return {!Iterable<!Object>} Iterable of next steps.\n",
              " */\n",
              "function* uploadFilesStep(inputId, outputId) {\n",
              "  const inputElement = document.getElementById(inputId);\n",
              "  inputElement.disabled = false;\n",
              "\n",
              "  const outputElement = document.getElementById(outputId);\n",
              "  outputElement.innerHTML = '';\n",
              "\n",
              "  const pickedPromise = new Promise((resolve) => {\n",
              "    inputElement.addEventListener('change', (e) => {\n",
              "      resolve(e.target.files);\n",
              "    });\n",
              "  });\n",
              "\n",
              "  const cancel = document.createElement('button');\n",
              "  inputElement.parentElement.appendChild(cancel);\n",
              "  cancel.textContent = 'Cancel upload';\n",
              "  const cancelPromise = new Promise((resolve) => {\n",
              "    cancel.onclick = () => {\n",
              "      resolve(null);\n",
              "    };\n",
              "  });\n",
              "\n",
              "  // Wait for the user to pick the files.\n",
              "  const files = yield {\n",
              "    promise: Promise.race([pickedPromise, cancelPromise]),\n",
              "    response: {\n",
              "      action: 'starting',\n",
              "    }\n",
              "  };\n",
              "\n",
              "  cancel.remove();\n",
              "\n",
              "  // Disable the input element since further picks are not allowed.\n",
              "  inputElement.disabled = true;\n",
              "\n",
              "  if (!files) {\n",
              "    return {\n",
              "      response: {\n",
              "        action: 'complete',\n",
              "      }\n",
              "    };\n",
              "  }\n",
              "\n",
              "  for (const file of files) {\n",
              "    const li = document.createElement('li');\n",
              "    li.append(span(file.name, {fontWeight: 'bold'}));\n",
              "    li.append(span(\n",
              "        `(${file.type || 'n/a'}) - ${file.size} bytes, ` +\n",
              "        `last modified: ${\n",
              "            file.lastModifiedDate ? file.lastModifiedDate.toLocaleDateString() :\n",
              "                                    'n/a'} - `));\n",
              "    const percent = span('0% done');\n",
              "    li.appendChild(percent);\n",
              "\n",
              "    outputElement.appendChild(li);\n",
              "\n",
              "    const fileDataPromise = new Promise((resolve) => {\n",
              "      const reader = new FileReader();\n",
              "      reader.onload = (e) => {\n",
              "        resolve(e.target.result);\n",
              "      };\n",
              "      reader.readAsArrayBuffer(file);\n",
              "    });\n",
              "    // Wait for the data to be ready.\n",
              "    let fileData = yield {\n",
              "      promise: fileDataPromise,\n",
              "      response: {\n",
              "        action: 'continue',\n",
              "      }\n",
              "    };\n",
              "\n",
              "    // Use a chunked sending to avoid message size limits. See b/62115660.\n",
              "    let position = 0;\n",
              "    do {\n",
              "      const length = Math.min(fileData.byteLength - position, MAX_PAYLOAD_SIZE);\n",
              "      const chunk = new Uint8Array(fileData, position, length);\n",
              "      position += length;\n",
              "\n",
              "      const base64 = btoa(String.fromCharCode.apply(null, chunk));\n",
              "      yield {\n",
              "        response: {\n",
              "          action: 'append',\n",
              "          file: file.name,\n",
              "          data: base64,\n",
              "        },\n",
              "      };\n",
              "\n",
              "      let percentDone = fileData.byteLength === 0 ?\n",
              "          100 :\n",
              "          Math.round((position / fileData.byteLength) * 100);\n",
              "      percent.textContent = `${percentDone}% done`;\n",
              "\n",
              "    } while (position < fileData.byteLength);\n",
              "  }\n",
              "\n",
              "  // All done.\n",
              "  yield {\n",
              "    response: {\n",
              "      action: 'complete',\n",
              "    }\n",
              "  };\n",
              "}\n",
              "\n",
              "scope.google = scope.google || {};\n",
              "scope.google.colab = scope.google.colab || {};\n",
              "scope.google.colab._files = {\n",
              "  _uploadFiles,\n",
              "  _uploadFilesContinue,\n",
              "};\n",
              "})(self);\n",
              "</script> "
            ]
          },
          "metadata": {}
        },
        {
          "output_type": "stream",
          "name": "stdout",
          "text": [
            "Saving Depression Student Dataset.csv to Depression Student Dataset.csv\n"
          ]
        }
      ]
    },
    {
      "cell_type": "code",
      "source": [
        "file_name = list(uploaded.keys())[0]\n",
        "df = pd.read_csv(file_name)\n",
        "print(df.head())\n"
      ],
      "metadata": {
        "colab": {
          "base_uri": "https://localhost:8080/"
        },
        "id": "gIOOKI3x5pkr",
        "outputId": "ae6f8c9d-02e4-43c9-8610-21d64a010322"
      },
      "execution_count": 5,
      "outputs": [
        {
          "output_type": "stream",
          "name": "stdout",
          "text": [
            "   Gender  Age  Academic Pressure  Study Satisfaction     Sleep Duration  \\\n",
            "0    Male   28                2.0                 4.0          7-8 hours   \n",
            "1    Male   28                4.0                 5.0          5-6 hours   \n",
            "2    Male   25                1.0                 3.0          5-6 hours   \n",
            "3    Male   23                1.0                 4.0  More than 8 hours   \n",
            "4  Female   31                1.0                 5.0  More than 8 hours   \n",
            "\n",
            "  Dietary Habits Have you ever had suicidal thoughts ?  Study Hours  \\\n",
            "0       Moderate                                   Yes            9   \n",
            "1        Healthy                                   Yes            7   \n",
            "2      Unhealthy                                   Yes           10   \n",
            "3      Unhealthy                                   Yes            7   \n",
            "4        Healthy                                   Yes            4   \n",
            "\n",
            "   Financial Stress Family History of Mental Illness Depression  \n",
            "0                 2                              Yes         No  \n",
            "1                 1                              Yes         No  \n",
            "2                 4                               No        Yes  \n",
            "3                 2                              Yes         No  \n",
            "4                 2                              Yes         No  \n"
          ]
        }
      ]
    },
    {
      "cell_type": "code",
      "source": [
        "from pyspark.sql import SparkSession\n",
        "spark = SparkSession.builder.master(\"local[*]\").appName(\"DataFrameExample\").getOrCreate()\n",
        "uploaded = files.upload()\n",
        "file_name = list(uploaded.keys())[0]\n",
        "df_spark = spark.read.csv(file_name, header=True, inferSchema=True)\n",
        "df_pandas = df_spark.toPandas()\n",
        "print(df_pandas.head())\n"
      ],
      "metadata": {
        "colab": {
          "base_uri": "https://localhost:8080/",
          "height": 438
        },
        "id": "YCMxhd7T6Omm",
        "outputId": "7413d522-7330-4756-9846-bbd4fdbc6255"
      },
      "execution_count": 6,
      "outputs": [
        {
          "output_type": "display_data",
          "data": {
            "text/plain": [
              "<IPython.core.display.HTML object>"
            ],
            "text/html": [
              "\n",
              "     <input type=\"file\" id=\"files-1e91eea0-218d-448d-9be1-1068adfc3a50\" name=\"files[]\" multiple disabled\n",
              "        style=\"border:none\" />\n",
              "     <output id=\"result-1e91eea0-218d-448d-9be1-1068adfc3a50\">\n",
              "      Upload widget is only available when the cell has been executed in the\n",
              "      current browser session. Please rerun this cell to enable.\n",
              "      </output>\n",
              "      <script>// Copyright 2017 Google LLC\n",
              "//\n",
              "// Licensed under the Apache License, Version 2.0 (the \"License\");\n",
              "// you may not use this file except in compliance with the License.\n",
              "// You may obtain a copy of the License at\n",
              "//\n",
              "//      http://www.apache.org/licenses/LICENSE-2.0\n",
              "//\n",
              "// Unless required by applicable law or agreed to in writing, software\n",
              "// distributed under the License is distributed on an \"AS IS\" BASIS,\n",
              "// WITHOUT WARRANTIES OR CONDITIONS OF ANY KIND, either express or implied.\n",
              "// See the License for the specific language governing permissions and\n",
              "// limitations under the License.\n",
              "\n",
              "/**\n",
              " * @fileoverview Helpers for google.colab Python module.\n",
              " */\n",
              "(function(scope) {\n",
              "function span(text, styleAttributes = {}) {\n",
              "  const element = document.createElement('span');\n",
              "  element.textContent = text;\n",
              "  for (const key of Object.keys(styleAttributes)) {\n",
              "    element.style[key] = styleAttributes[key];\n",
              "  }\n",
              "  return element;\n",
              "}\n",
              "\n",
              "// Max number of bytes which will be uploaded at a time.\n",
              "const MAX_PAYLOAD_SIZE = 100 * 1024;\n",
              "\n",
              "function _uploadFiles(inputId, outputId) {\n",
              "  const steps = uploadFilesStep(inputId, outputId);\n",
              "  const outputElement = document.getElementById(outputId);\n",
              "  // Cache steps on the outputElement to make it available for the next call\n",
              "  // to uploadFilesContinue from Python.\n",
              "  outputElement.steps = steps;\n",
              "\n",
              "  return _uploadFilesContinue(outputId);\n",
              "}\n",
              "\n",
              "// This is roughly an async generator (not supported in the browser yet),\n",
              "// where there are multiple asynchronous steps and the Python side is going\n",
              "// to poll for completion of each step.\n",
              "// This uses a Promise to block the python side on completion of each step,\n",
              "// then passes the result of the previous step as the input to the next step.\n",
              "function _uploadFilesContinue(outputId) {\n",
              "  const outputElement = document.getElementById(outputId);\n",
              "  const steps = outputElement.steps;\n",
              "\n",
              "  const next = steps.next(outputElement.lastPromiseValue);\n",
              "  return Promise.resolve(next.value.promise).then((value) => {\n",
              "    // Cache the last promise value to make it available to the next\n",
              "    // step of the generator.\n",
              "    outputElement.lastPromiseValue = value;\n",
              "    return next.value.response;\n",
              "  });\n",
              "}\n",
              "\n",
              "/**\n",
              " * Generator function which is called between each async step of the upload\n",
              " * process.\n",
              " * @param {string} inputId Element ID of the input file picker element.\n",
              " * @param {string} outputId Element ID of the output display.\n",
              " * @return {!Iterable<!Object>} Iterable of next steps.\n",
              " */\n",
              "function* uploadFilesStep(inputId, outputId) {\n",
              "  const inputElement = document.getElementById(inputId);\n",
              "  inputElement.disabled = false;\n",
              "\n",
              "  const outputElement = document.getElementById(outputId);\n",
              "  outputElement.innerHTML = '';\n",
              "\n",
              "  const pickedPromise = new Promise((resolve) => {\n",
              "    inputElement.addEventListener('change', (e) => {\n",
              "      resolve(e.target.files);\n",
              "    });\n",
              "  });\n",
              "\n",
              "  const cancel = document.createElement('button');\n",
              "  inputElement.parentElement.appendChild(cancel);\n",
              "  cancel.textContent = 'Cancel upload';\n",
              "  const cancelPromise = new Promise((resolve) => {\n",
              "    cancel.onclick = () => {\n",
              "      resolve(null);\n",
              "    };\n",
              "  });\n",
              "\n",
              "  // Wait for the user to pick the files.\n",
              "  const files = yield {\n",
              "    promise: Promise.race([pickedPromise, cancelPromise]),\n",
              "    response: {\n",
              "      action: 'starting',\n",
              "    }\n",
              "  };\n",
              "\n",
              "  cancel.remove();\n",
              "\n",
              "  // Disable the input element since further picks are not allowed.\n",
              "  inputElement.disabled = true;\n",
              "\n",
              "  if (!files) {\n",
              "    return {\n",
              "      response: {\n",
              "        action: 'complete',\n",
              "      }\n",
              "    };\n",
              "  }\n",
              "\n",
              "  for (const file of files) {\n",
              "    const li = document.createElement('li');\n",
              "    li.append(span(file.name, {fontWeight: 'bold'}));\n",
              "    li.append(span(\n",
              "        `(${file.type || 'n/a'}) - ${file.size} bytes, ` +\n",
              "        `last modified: ${\n",
              "            file.lastModifiedDate ? file.lastModifiedDate.toLocaleDateString() :\n",
              "                                    'n/a'} - `));\n",
              "    const percent = span('0% done');\n",
              "    li.appendChild(percent);\n",
              "\n",
              "    outputElement.appendChild(li);\n",
              "\n",
              "    const fileDataPromise = new Promise((resolve) => {\n",
              "      const reader = new FileReader();\n",
              "      reader.onload = (e) => {\n",
              "        resolve(e.target.result);\n",
              "      };\n",
              "      reader.readAsArrayBuffer(file);\n",
              "    });\n",
              "    // Wait for the data to be ready.\n",
              "    let fileData = yield {\n",
              "      promise: fileDataPromise,\n",
              "      response: {\n",
              "        action: 'continue',\n",
              "      }\n",
              "    };\n",
              "\n",
              "    // Use a chunked sending to avoid message size limits. See b/62115660.\n",
              "    let position = 0;\n",
              "    do {\n",
              "      const length = Math.min(fileData.byteLength - position, MAX_PAYLOAD_SIZE);\n",
              "      const chunk = new Uint8Array(fileData, position, length);\n",
              "      position += length;\n",
              "\n",
              "      const base64 = btoa(String.fromCharCode.apply(null, chunk));\n",
              "      yield {\n",
              "        response: {\n",
              "          action: 'append',\n",
              "          file: file.name,\n",
              "          data: base64,\n",
              "        },\n",
              "      };\n",
              "\n",
              "      let percentDone = fileData.byteLength === 0 ?\n",
              "          100 :\n",
              "          Math.round((position / fileData.byteLength) * 100);\n",
              "      percent.textContent = `${percentDone}% done`;\n",
              "\n",
              "    } while (position < fileData.byteLength);\n",
              "  }\n",
              "\n",
              "  // All done.\n",
              "  yield {\n",
              "    response: {\n",
              "      action: 'complete',\n",
              "    }\n",
              "  };\n",
              "}\n",
              "\n",
              "scope.google = scope.google || {};\n",
              "scope.google.colab = scope.google.colab || {};\n",
              "scope.google.colab._files = {\n",
              "  _uploadFiles,\n",
              "  _uploadFilesContinue,\n",
              "};\n",
              "})(self);\n",
              "</script> "
            ]
          },
          "metadata": {}
        },
        {
          "output_type": "stream",
          "name": "stdout",
          "text": [
            "Saving Depression Student Dataset.csv to Depression Student Dataset (1).csv\n",
            "   Gender  Age  Academic Pressure  Study Satisfaction     Sleep Duration  \\\n",
            "0    Male   28                2.0                 4.0          7-8 hours   \n",
            "1    Male   28                4.0                 5.0          5-6 hours   \n",
            "2    Male   25                1.0                 3.0          5-6 hours   \n",
            "3    Male   23                1.0                 4.0  More than 8 hours   \n",
            "4  Female   31                1.0                 5.0  More than 8 hours   \n",
            "\n",
            "  Dietary Habits Have you ever had suicidal thoughts ?  Study Hours  \\\n",
            "0       Moderate                                   Yes            9   \n",
            "1        Healthy                                   Yes            7   \n",
            "2      Unhealthy                                   Yes           10   \n",
            "3      Unhealthy                                   Yes            7   \n",
            "4        Healthy                                   Yes            4   \n",
            "\n",
            "   Financial Stress Family History of Mental Illness Depression  \n",
            "0                 2                              Yes         No  \n",
            "1                 1                              Yes         No  \n",
            "2                 4                               No        Yes  \n",
            "3                 2                              Yes         No  \n",
            "4                 2                              Yes         No  \n"
          ]
        }
      ]
    },
    {
      "cell_type": "code",
      "source": [
        "import seaborn as sns\n",
        "import matplotlib.pyplot as plt\n",
        "\n",
        "plt.figure(figsize=(8, 5))\n",
        "sns.countplot(x='Gender', data=df_pandas,)\n",
        "plt.title('Gender')\n",
        "plt.xlabel('Gender')\n",
        "plt.ylabel('Fréquence')\n",
        "plt.show()"
      ],
      "metadata": {
        "colab": {
          "base_uri": "https://localhost:8080/",
          "height": 487
        },
        "id": "rP8wd35u6te7",
        "outputId": "f3152fac-8d39-46f4-d459-bfc71955c0d2"
      },
      "execution_count": 7,
      "outputs": [
        {
          "output_type": "display_data",
          "data": {
            "text/plain": [
              "<Figure size 800x500 with 1 Axes>"
            ],
            "image/png": "[encoded data removed]"
          },
          "metadata": {}
        }
      ]
    },
    {
      "cell_type": "code",
      "source": [
        "plt.figure(figsize=(8, 5))\n",
        "sns.lineplot(x='Age', y='Depression', data=df_pandas, marker='o', errorbar=None)\n",
        "plt.title('Evolution of depression bassed on age')\n",
        "plt.xlabel('Age')\n",
        "plt.ylabel('Depression')\n",
        "plt.show()"
      ],
      "metadata": {
        "colab": {
          "base_uri": "https://localhost:8080/",
          "height": 487
        },
        "id": "u_D_0RuH9xC0",
        "outputId": "9c5affee-1172-41a3-a03c-05e8a55e7727"
      },
      "execution_count": 9,
      "outputs": [
        {
          "output_type": "display_data",
          "data": {
            "text/plain": [
              "<Figure size 800x500 with 1 Axes>"
            ],
            "image/png": "[encoded data removed]"
          },
          "metadata": {}
        }
      ]
    },
    {
      "cell_type": "code",
      "source": [
        "import seaborn as sns\n",
        "import matplotlib.pyplot as plt\n",
        "\n",
        "filtered_data = df_pandas[(df_pandas['Age'] < 30) & (df_pandas['Depression'] == \"Yes\")]\n",
        "\n",
        "plt.figure(figsize=(10, 6))\n",
        "sns.countplot(\n",
        "    x='Have you ever had suicidal thoughts ?',\n",
        "    hue='Gender',\n",
        "    data=filtered_data,\n",
        "    palette='Set1'\n",
        ")\n",
        "plt.title(\" Depressed poeple under the age of 30 with Suicidal Thoughts \")\n",
        "plt.xlabel(\"Have you ever had suicidal thoughts?\")\n",
        "plt.ylabel(\"Count\")\n",
        "plt.legend(title=\"Gender\", loc=\"upper right\")\n",
        "plt.show()\n"
      ],
      "metadata": {
        "colab": {
          "base_uri": "https://localhost:8080/",
          "height": 564
        },
        "id": "CVfgOzGdq9Cu",
        "outputId": "c3240a7f-75d5-4ca8-e852-ed28f4671caf"
      },
      "execution_count": 10,
      "outputs": [
        {
          "output_type": "display_data",
          "data": {
            "text/plain": [
              "<Figure size 1000x600 with 1 Axes>"
            ],
            "image/png": "[encoded data removed]"
          },
          "metadata": {}
        }
      ]
    },
    {
      "cell_type": "code",
      "source": [
        "from pyspark.sql import SparkSession\n",
        "\n",
        "spark = SparkSession.builder.appName(\"DepressionPrediction\").getOrCreate()\n"
      ],
      "metadata": {
        "id": "z2TlrIN9wsrK"
      },
      "execution_count": 11,
      "outputs": []
    },
    {
      "cell_type": "code",
      "source": [
        "from google.colab import drive\n",
        "drive.mount('/content/drive')"
      ],
      "metadata": {
        "colab": {
          "base_uri": "https://localhost:8080/"
        },
        "id": "BHy2yY3rw2hl",
        "outputId": "96ce015a-2611-4b25-9683-ddd965098d1f"
      },
      "execution_count": 12,
      "outputs": [
        {
          "output_type": "stream",
          "name": "stdout",
          "text": [
            "Mounted at /content/drive\n"
          ]
        }
      ]
    },
    {
      "cell_type": "code",
      "source": [
        "file_path = \"/content/drive/MyDrive/Depression Student Dataset.csv\"\n",
        "\n",
        "# Charger les données dans un DataFrame\n",
        "df = spark.read.csv(file_path, header=True, inferSchema=True)\n",
        "df.groupBy(\"Depression\",\"Have you ever had suicidal thoughts ?\").count().show()"
      ],
      "metadata": {
        "colab": {
          "base_uri": "https://localhost:8080/"
        },
        "id": "3URDGRigw8nh",
        "outputId": "7dee92ba-fde0-4da5-fe31-07910dda4b49"
      },
      "execution_count": 13,
      "outputs": [
        {
          "output_type": "stream",
          "name": "stdout",
          "text": [
            "+----------+-------------------------------------+-----+\n",
            "|Depression|Have you ever had suicidal thoughts ?|count|\n",
            "+----------+-------------------------------------+-----+\n",
            "|       Yes|                                  Yes|  189|\n",
            "|        No|                                   No|  179|\n",
            "|       Yes|                                   No|   63|\n",
            "|        No|                                  Yes|   71|\n",
            "+----------+-------------------------------------+-----+\n",
            "\n"
          ]
        }
      ]
    },
    {
      "cell_type": "code",
      "source": [
        "\n",
        "from pyspark.sql import SparkSession\n",
        "\n",
        "# Créer une session Spark\n",
        "spark = SparkSession.builder.appName(\"Save30Percent\").getOrCreate()\n",
        "\n",
        "# Charger le fichier CSV\n",
        "data = spark.read.csv(\"/content/drive/MyDrive/Depression Student Dataset.csv\", header=True, inferSchema=True)\n",
        "\n",
        "# Diviser les données pour prendre 30%\n",
        "df1, sample_data = data.randomSplit([0.7, 0.3], seed=1234)\n",
        "\n",
        "# Sauvegarder ces 30% dans un fichier CSV dans Google Drive\n",
        "sample_data.write.csv(\"/content/drive/MyDrive/Depression Student Dataset_30.csv\", header=True, mode=\"overwrite\")\n",
        "df1.write.csv(\"/content/drive/MyDrive/Depression Student Dataset_70.csv\", header=True, mode=\"overwrite\")\n",
        "# Afficher les premières lignes pour vérifier\n",
        "sample_data.show(5)\n"
      ],
      "metadata": {
        "colab": {
          "base_uri": "https://localhost:8080/"
        },
        "id": "s5eP8Fk5yRqQ",
        "outputId": "74945de6-cfe6-4423-cfe9-c2cdca24f0d6"
      },
      "execution_count": 33,
      "outputs": [
        {
          "output_type": "stream",
          "name": "stdout",
          "text": [
            "+------+---+-----------------+------------------+-----------------+--------------+-------------------------------------+-----------+----------------+--------------------------------+----------+\n",
            "|Gender|Age|Academic Pressure|Study Satisfaction|   Sleep Duration|Dietary Habits|Have you ever had suicidal thoughts ?|Study Hours|Financial Stress|Family History of Mental Illness|Depression|\n",
            "+------+---+-----------------+------------------+-----------------+--------------+-------------------------------------+-----------+----------------+--------------------------------+----------+\n",
            "|Female| 18|              1.0|               5.0|Less than 5 hours|     Unhealthy|                                   No|         11|               5|                             Yes|       Yes|\n",
            "|Female| 18|              1.0|               5.0|More than 8 hours|      Moderate|                                  Yes|          7|               5|                              No|       Yes|\n",
            "|Female| 18|              3.0|               1.0|More than 8 hours|      Moderate|                                   No|          3|               1|                             Yes|        No|\n",
            "|Female| 19|              4.0|               5.0|        7-8 hours|      Moderate|                                  Yes|          4|               4|                             Yes|       Yes|\n",
            "|Female| 20|              1.0|               3.0|        7-8 hours|       Healthy|                                  Yes|          0|               5|                              No|        No|\n",
            "+------+---+-----------------+------------------+-----------------+--------------+-------------------------------------+-----------+----------------+--------------------------------+----------+\n",
            "only showing top 5 rows\n",
            "\n"
          ]
        }
      ]
    },
    {
      "cell_type": "code",
      "source": [
        "from pyspark.sql import SparkSession\n",
        "from pyspark.ml.feature import VectorAssembler\n",
        "from pyspark.ml.classification import DecisionTreeClassifier\n",
        "from pyspark.ml.evaluation import BinaryClassificationEvaluator\n",
        "from pyspark.ml import Pipeline\n",
        "\n",
        "# Créer une session Spark\n",
        "spark = SparkSession.builder.appName(\"DecisionTreeDepressed\").getOrCreate()\n",
        "\n",
        "# Charger le fichier CSV\n",
        "data = spark.read.csv(\"/content/drive/MyDrive/Depression Student Dataset_70.csv\", header=True, inferSchema=True)\n",
        "\n",
        "# Afficher les premières lignes du DataFrame pour vérifier les données\n",
        "data.show(5)\n"
      ],
      "metadata": {
        "colab": {
          "base_uri": "https://localhost:8080/"
        },
        "id": "kd5rXTv5zL7j",
        "outputId": "40492927-bb0e-4b88-9090-02e8c55350ce"
      },
      "execution_count": 15,
      "outputs": [
        {
          "output_type": "stream",
          "name": "stdout",
          "text": [
            "+------+---+-----------------+------------------+-----------------+--------------+-------------------------------------+-----------+----------------+--------------------------------+----------+\n",
            "|Gender|Age|Academic Pressure|Study Satisfaction|   Sleep Duration|Dietary Habits|Have you ever had suicidal thoughts ?|Study Hours|Financial Stress|Family History of Mental Illness|Depression|\n",
            "+------+---+-----------------+------------------+-----------------+--------------+-------------------------------------+-----------+----------------+--------------------------------+----------+\n",
            "|Female| 18|              1.0|               5.0|Less than 5 hours|     Unhealthy|                                   No|         11|               5|                             Yes|       Yes|\n",
            "|Female| 18|              2.0|               4.0|        7-8 hours|       Healthy|                                   No|          9|               2|                              No|        No|\n",
            "|Female| 18|              2.0|               5.0|        7-8 hours|      Moderate|                                   No|          8|               2|                              No|        No|\n",
            "|Female| 18|              3.0|               5.0|        7-8 hours|      Moderate|                                   No|          4|               1|                             Yes|        No|\n",
            "|Female| 18|              4.0|               1.0|More than 8 hours|       Healthy|                                   No|         10|               1|                             Yes|       Yes|\n",
            "+------+---+-----------------+------------------+-----------------+--------------+-------------------------------------+-----------+----------------+--------------------------------+----------+\n",
            "only showing top 5 rows\n",
            "\n"
          ]
        }
      ]
    },
    {
      "cell_type": "code",
      "source": [
        "from pyspark.sql import functions as F\n",
        "\n",
        "# Convert 'Yes' to 1 and 'No' to 0 in the \"Depression\" column\n",
        "data = data.withColumn(\"Depression\",\n",
        "                       F.when(F.col(\"Depression\") == \"Yes\", 1).otherwise(0))\n",
        "\n",
        "# If you want to apply it to other columns as well (e.g., \"Family History of Mental Illness\")\n",
        "data = data.withColumn(\"Family History of Mental Illness\",\n",
        "                       F.when(F.col(\"Family History of Mental Illness\") == \"Yes\", 1).otherwise(0))\n",
        "\n",
        "data = data.withColumn(\"Have you ever had suicidal thoughts ?\",\n",
        "                       F.when(F.col(\"Have you ever had suicidal thoughts ?\") == \"Yes\", 1).otherwise(0))\n",
        "\n",
        "# Afficher les premières lignes pour vérifier la conversion\n",
        "data.show(5)\n"
      ],
      "metadata": {
        "colab": {
          "base_uri": "https://localhost:8080/"
        },
        "id": "LEGog3_53VAC",
        "outputId": "9b16c6ed-f6e3-461e-a26d-4dbe7852999e"
      },
      "execution_count": 16,
      "outputs": [
        {
          "output_type": "stream",
          "name": "stdout",
          "text": [
            "+------+---+-----------------+------------------+-----------------+--------------+-------------------------------------+-----------+----------------+--------------------------------+----------+\n",
            "|Gender|Age|Academic Pressure|Study Satisfaction|   Sleep Duration|Dietary Habits|Have you ever had suicidal thoughts ?|Study Hours|Financial Stress|Family History of Mental Illness|Depression|\n",
            "+------+---+-----------------+------------------+-----------------+--------------+-------------------------------------+-----------+----------------+--------------------------------+----------+\n",
            "|Female| 18|              1.0|               5.0|Less than 5 hours|     Unhealthy|                                    0|         11|               5|                               1|         1|\n",
            "|Female| 18|              2.0|               4.0|        7-8 hours|       Healthy|                                    0|          9|               2|                               0|         0|\n",
            "|Female| 18|              2.0|               5.0|        7-8 hours|      Moderate|                                    0|          8|               2|                               0|         0|\n",
            "|Female| 18|              3.0|               5.0|        7-8 hours|      Moderate|                                    0|          4|               1|                               1|         0|\n",
            "|Female| 18|              4.0|               1.0|More than 8 hours|       Healthy|                                    0|         10|               1|                               1|         1|\n",
            "+------+---+-----------------+------------------+-----------------+--------------+-------------------------------------+-----------+----------------+--------------------------------+----------+\n",
            "only showing top 5 rows\n",
            "\n"
          ]
        }
      ]
    },
    {
      "cell_type": "code",
      "source": [
        "from pyspark.sql import SparkSession\n",
        "from pyspark.ml.feature import VectorAssembler\n",
        "from pyspark.ml.classification import DecisionTreeClassifier\n",
        "from pyspark.ml.evaluation import BinaryClassificationEvaluator\n",
        "from pyspark.ml import Pipeline\n",
        "from pyspark.sql import functions as F\n",
        "\n",
        "# Créer une session Spark\n",
        "spark = SparkSession.builder.appName(\"DecisionTreeDepression\").getOrCreate()\n",
        "\n",
        "# Charger le fichier CSV\n",
        "data = spark.read.csv(\"/content/drive/MyDrive/Depression Student Dataset_80.csv\", header=True, inferSchema=True)\n",
        "\n",
        "# Conversion des colonnes catégorielles (Yes/No) en 1/0\n",
        "data = data.withColumn(\"Depression\", F.when(F.col(\"Depression\") == \"Yes\", 1).otherwise(0))\n",
        "data = data.withColumn(\"Family History of Mental Illness\", F.when(F.col(\"Family History of Mental Illness\") == \"Yes\", 1).otherwise(0))\n",
        "data = data.withColumn(\"Have you ever had suicidal thoughts ?\", F.when(F.col(\"Have you ever had suicidal thoughts ?\") == \"Yes\", 1).otherwise(0))\n",
        "\n",
        "# Liste des colonnes à utiliser comme caractéristiques\n",
        "feature_columns = [\"Gender\", \"Age\", \"Academic Pressure\", \"Study Satisfaction\", \"Sleep Duration\",\n",
        "                   \"Dietary Habits\", \"Have you ever had suicidal thoughts ?\", \"Study Hours\",\n",
        "                   \"Financial Stress\", \"Family History of Mental Illness\"]\n",
        "\n",
        "# Convertir les colonnes catégorielles en numériques (ex: Gender, Sleep Duration, Dietary Habits)\n",
        "data = data.withColumn(\"Gender\", F.when(F.col(\"Gender\") == \"Female\", 0).otherwise(1))\n",
        "data = data.withColumn(\"Sleep Duration\", F.when(F.col(\"Sleep Duration\") == \"Less than 5 hours\", 0)\n",
        "                      .when(F.col(\"Sleep Duration\") == \"7-8 hours\", 1)\n",
        "                      .when(F.col(\"Sleep Duration\") == \"More than 8 hours\", 2)\n",
        "                      .otherwise(3))\n",
        "data = data.withColumn(\"Dietary Habits\", F.when(F.col(\"Dietary Habits\") == \"Unhealthy\", 0)\n",
        "                      .when(F.col(\"Dietary Habits\") == \"Healthy\", 1)\n",
        "                      .otherwise(2))\n",
        "\n",
        "# Assembler les caractéristiques dans une colonne 'features'\n",
        "assembler = VectorAssembler(inputCols=feature_columns, outputCol=\"features\")\n",
        "\n",
        "# Définir l'arbre de décision\n",
        "dt = DecisionTreeClassifier(labelCol=\"Depression\", featuresCol=\"features\", predictionCol=\"prediction\")\n",
        "\n",
        "# Construire le pipeline\n",
        "pipeline = Pipeline(stages=[assembler, dt])\n",
        "\n",
        "# Diviser les données en ensemble d'entraînement et de test\n",
        "train_data, test_data = data.randomSplit([0.8, 0.2], seed=1234)\n",
        "\n",
        "# Entraîner le modèle\n",
        "model = pipeline.fit(train_data)\n",
        "\n",
        "# Appliquer les prédictions sur les données de test\n",
        "predictions = model.transform(test_data)\n",
        "\n",
        "# Afficher les résultats de prédiction\n",
        "predictions.select(\"prediction\", \"Depression\", \"features\").show(5)\n",
        "\n",
        "# Évaluation du modèle avec AUC\n",
        "evaluator = BinaryClassificationEvaluator(labelCol=\"Depression\", rawPredictionCol=\"prediction\")\n",
        "\n",
        "# Calculer l'AUC (Area Under Curve)\n",
        "auc = evaluator.evaluate(predictions)\n",
        "print(f\"AUC: {auc}\")\n",
        "\n",
        "# Sauvegarder le modèle\n",
        "model.write().overwrite().save(\"decision_tree_model_Depressed\")\n",
        "\n"
      ],
      "metadata": {
        "id": "15D72Okn4byw",
        "outputId": "e435abe6-78f1-4f29-d502-b076c2f7a498",
        "colab": {
          "base_uri": "https://localhost:8080/"
        }
      },
      "execution_count": 19,
      "outputs": [
        {
          "output_type": "stream",
          "name": "stdout",
          "text": [
            "+----------+----------+--------------------+\n",
            "|prediction|Depression|            features|\n",
            "+----------+----------+--------------------+\n",
            "|       0.0|         0|[0.0,18.0,2.0,4.0...|\n",
            "|       1.0|         1|[0.0,18.0,4.0,1.0...|\n",
            "|       1.0|         0|[0.0,20.0,2.0,5.0...|\n",
            "|       0.0|         0|[0.0,20.0,3.0,2.0...|\n",
            "|       1.0|         1|[0.0,20.0,3.0,2.0...|\n",
            "+----------+----------+--------------------+\n",
            "only showing top 5 rows\n",
            "\n",
            "AUC: 0.8214285714285714\n"
          ]
        }
      ]
    },
    {
      "cell_type": "code",
      "source": [
        "from pyspark.sql.functions import col\n",
        "\n",
        "predictions = predictions.withColumn(\"is_correct\", (col(\"prediction\") == col(\"Depression\")).cast(\"integer\"))\n",
        "\n",
        "error_rate = 1 - (predictions.groupBy().sum(\"is_correct\").first()[0] / predictions.count())\n",
        "print(f\"error rate: {error_rate:.2f}\")\n"
      ],
      "metadata": {
        "colab": {
          "base_uri": "https://localhost:8080/"
        },
        "id": "ws2TCVXYdp-a",
        "outputId": "56d21582-2010-4807-aca1-278908ba2afb"
      },
      "execution_count": 35,
      "outputs": [
        {
          "output_type": "stream",
          "name": "stdout",
          "text": [
            "error rate: 0.18\n"
          ]
        }
      ]
    }
  ]
}